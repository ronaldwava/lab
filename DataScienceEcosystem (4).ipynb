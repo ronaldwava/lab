{
 "cells": [
  {
   "cell_type": "markdown",
   "id": "98c5f26b-d91d-42dc-877d-972436282be2",
   "metadata": {
    "tags": []
   },
   "source": [
    "# (Header 1, Data Science tools AND Ecosystem)"
   ]
  },
  {
   "cell_type": "markdown",
   "id": "41a0bdf0-ed8e-49ae-814b-b0afc688d014",
   "metadata": {
    "tags": []
   },
   "source": [
    "## In this notebook Data Science Tools and Ecosystem are summerised"
   ]
  },
  {
   "cell_type": "markdown",
   "id": "c6629556-0820-4e2c-bbac-544cea3d5820",
   "metadata": {},
   "source": [
    "# __Objectives:__ \n",
    "- List popular languages for Data Science\n",
    "- list tools used for data science\n",
    "- list libralies used in data science tools\n",
    "- list IDE tools in data science\n",
    "- arithmetic evaluations"
   ]
  },
  {
   "cell_type": "markdown",
   "id": "d9a5ac4e-f2c3-47d5-a809-0925b0eff807",
   "metadata": {
    "tags": []
   },
   "source": [
    "### Some of the popular languages that data scientists use are:\n",
    "1. Pythone\n",
    "2. scala\n",
    "3. R\n",
    "4. Java\n"
   ]
  },
  {
   "cell_type": "markdown",
   "id": "8dac4f1e-32dd-43a8-86ae-83f84291d2dc",
   "metadata": {
    "tags": []
   },
   "source": [
    "#### Some of the commonly used libraries used by Data Scientists include:\n",
    "1. matplotlib\n",
    "2. seaborn\n",
    "3. scikt-learn\n",
    "4. spark\n",
    "5. vegas\n",
    "6. DL\n",
    "7. ggplot2"
   ]
  },
  {
   "cell_type": "markdown",
   "id": "23700fd1-388b-4908-9a3f-b322ae730277",
   "metadata": {
    "tags": []
   },
   "source": [
    "| Data science tools |\n",
    "| -------------|\n",
    "| Rstudio|\n",
    "|apache spack |\n",
    "| hadoop|\n",
    "|tensor flow |\n",
    "\n"
   ]
  },
  {
   "cell_type": "markdown",
   "id": "60b8ab1d-ae76-4f2a-b2e9-962d3c1a22b6",
   "metadata": {},
   "source": [
    "### h3:Below are a few examples of evaluating arithmetic expressions in Python\n",
    "\n"
   ]
  },
  {
   "cell_type": "code",
   "execution_count": 33,
   "id": "9462e351-ef38-4e71-baf1-b8a705539c17",
   "metadata": {},
   "outputs": [
    {
     "data": {
      "text/plain": [
       "17"
      ]
     },
     "execution_count": 33,
     "metadata": {},
     "output_type": "execute_result"
    }
   ],
   "source": [
    "#This a simple arithmetic expression to mutiply then add integers\n",
    "(3*4)+5"
   ]
  },
  {
   "cell_type": "code",
   "execution_count": 35,
   "id": "0cd8acee-b28e-4673-8f9b-c667ade0beeb",
   "metadata": {},
   "outputs": [
    {
     "data": {
      "text/plain": [
       "3.3333333333333335"
      ]
     },
     "execution_count": 35,
     "metadata": {},
     "output_type": "execute_result"
    }
   ],
   "source": [
    "#This will convert 200 minutes to hours by diving by 60\n",
    "200/60"
   ]
  },
  {
   "cell_type": "markdown",
   "id": "a13a997b-aeca-4c38-abfe-d2474fce6172",
   "metadata": {},
   "source": [
    " ## h2: Author\n",
    " # Whava RONIE"
   ]
  }
 ],
 "metadata": {
  "kernelspec": {
   "display_name": "anaconda-2022.05-py39",
   "language": "python",
   "name": "conda-env-anaconda-2022.05-py39-py"
  },
  "language_info": {
   "codemirror_mode": {
    "name": "ipython",
    "version": 3
   },
   "file_extension": ".py",
   "mimetype": "text/x-python",
   "name": "python",
   "nbconvert_exporter": "python",
   "pygments_lexer": "ipython3",
   "version": "3.9.12"
  }
 },
 "nbformat": 4,
 "nbformat_minor": 5
}
